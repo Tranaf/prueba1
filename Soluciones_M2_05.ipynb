{
 "cells": [
  {
   "cell_type": "markdown",
   "metadata": {},
   "source": [
    "# Ejercicios Modulo 2. Control de flujo (Soluciones)\n",
    "\n",
    "Consideraciones a tener en cuenta: \n",
    "\n",
    "* Guardar este documento con el siguiente formato para su entrega: __M2_05_nombre_apellido1_apellido2__\n",
    "* Realizar los ejercicios con las herramientas vistas en las sesiones. \n",
    "* Comentar el código\n",
    "* Utilizar nombres de variables apropiados, si vais a guardar una nota, llamar a esa variable nota, no n o x"
   ]
  },
  {
   "cell_type": "markdown",
   "metadata": {},
   "source": [
    "## Ejercicios de control de flujo"
   ]
  },
  {
   "cell_type": "markdown",
   "metadata": {},
   "source": [
    "**1) Realiza un programa que lea tres números por teclado y permita evaluar lo siguiente:** \n",
    "* Si los números están en orden ascendente\n",
    "* Si los números no están en orden ascendente\n",
    "* Si hay un error debido a que el primer número introducido es 0\n",
    "\n",
    "__No uses listas, eso dejalo para el siguiente ejercicio__"
   ]
  },
  {
   "cell_type": "code",
   "execution_count": 7,
   "metadata": {},
   "outputs": [
    {
     "name": "stdout",
     "output_type": "stream",
     "text": [
      "Introduce un número: 5\n",
      "Introduce otro número: 1\n",
      "Introduce otro número: 9\n",
      "Los numeros no estan en orden ascendente\n"
     ]
    }
   ],
   "source": [
    "num1 = float(input(\"Introduce un número: \") )\n",
    "num2 = float(input(\"Introduce otro número: \") )\n",
    "num3 = float(input(\"Introduce otro número: \") )\n",
    "\n",
    "if(num1 <= num2) and (num2 <= num3):\n",
    "    print(\"Los numeros estan en orden ascendenter\")\n",
    "elif(num1 == 0):\n",
    "    print(\"Hay un error\")\n",
    "else:\n",
    "    print(\"Los numeros no estan en orden ascendente\")"
   ]
  },
  {
   "cell_type": "markdown",
   "metadata": {},
   "source": [
    "**2) Realiza el ejercicio anterior pero introduciendo los numeros en una lista:**"
   ]
  },
  {
   "cell_type": "code",
   "execution_count": null,
   "metadata": {},
   "outputs": [],
   "source": [
    "# En caso de que quisieramos pedir los numeros en un bucle\n",
    "numeros = []\n",
    "print(\"Introduzca 3 valores\\n\")\n",
    "for x in range(3):\n",
    "    numeros.append(float(input(\"Introduzca un valor: \") ))\n",
    "if numeros[0] == 0:\n",
    "    print('Error! El primer número es igual a 0')           \n",
    "elif numeros[0] > numeros[1] and numeros[1] > numeros[2]:\n",
    "    print('Los números están en orden descendente')\n",
    "elif numeros[0] < numeros[1] and numeros[1] < numeros[2]:\n",
    "    print('Los números están en orden ascendente')\n",
    "else:\n",
    "    print('Los numeros no siguen ningún orden')\n"
   ]
  },
  {
   "cell_type": "markdown",
   "metadata": {},
   "source": [
    "**3) Realiza un programa que lea letras y cuente con una variable contador las letras \"a\" que se introducen. Para salir del programa, introducir el carácter \".\". Al finalizar mostrar el número de veces que se ha pulsado la letra \"a\".**"
   ]
  },
  {
   "cell_type": "code",
   "execution_count": 12,
   "metadata": {},
   "outputs": [
    {
     "name": "stdout",
     "output_type": "stream",
     "text": [
      "Introduzca letra(. para salir): f\n",
      "Introduzca letra(. para salir): d\n",
      "Introduzca letra(. para salir): a\n",
      "Introduzca letra(. para salir): s\n",
      "Introduzca letra(. para salir): a\n",
      "Introduzca letra(. para salir): .\n",
      "La letra a se ha pulsado  2 veces\n"
     ]
    }
   ],
   "source": [
    "contador = 0\n",
    "while True:\n",
    "    letras = input(\"Introduzca letra(. para salir): \")\n",
    "    if(letras == \"a\"):\n",
    "        contador = contador + 1\n",
    "    if(letras == \".\"):\n",
    "        print(\"La letra a se ha pulsado \", contador, \"veces\")\n",
    "        break"
   ]
  },
  {
   "cell_type": "code",
   "execution_count": 1,
   "metadata": {},
   "outputs": [
    {
     "name": "stdout",
     "output_type": "stream",
     "text": [
      "Introduzca una frase: hola que tal\n",
      "El número de veces que se ha pulsado la letra 'a': 2\n"
     ]
    }
   ],
   "source": [
    "# Con truco\n",
    "contador = input(\"Introduzca una frase: \")\n",
    "print(\"El número de veces que se ha pulsado la letra 'a':\",contador.count('a'))"
   ]
  },
  {
   "cell_type": "markdown",
   "metadata": {},
   "source": [
    "**4) Crea una lista de palabras, recorre la lista y muestra cada palabra junto con su longitud. Al final, indicar cual fue la palabra con más caracteres.**"
   ]
  },
  {
   "cell_type": "code",
   "execution_count": 4,
   "metadata": {},
   "outputs": [
    {
     "name": "stdout",
     "output_type": "stream",
     "text": [
      "hola -> 4\n",
      "que -> 3\n",
      "tal -> 3\n",
      "estas -> 5\n",
      "estudiando -> 10\n",
      "Python -> 6\n",
      " > La palabra con más letras es estudiando con 10 letras\n"
     ]
    }
   ],
   "source": [
    "palabras = [\"hola\", \"que\", \"tal\", \"estas\", \"estudiando\", \"Python\"]\n",
    "indiceMayor = 0\n",
    "numLetrasMayor = 0\n",
    "for index, palabra in enumerate(palabras):\n",
    "    print(palabra, \"->\", len(palabra))\n",
    "    if(len(palabra) > numLetrasMayor):\n",
    "        numLetrasMayor = len(palabra)\n",
    "        indiceMayor = index\n",
    "print(\" > La palabra con más letras es {} con {} letras\".format(palabras[indiceMayor], len(palabras[indiceMayor])))"
   ]
  }
 ],
 "metadata": {
  "anaconda-cloud": {},
  "kernelspec": {
   "display_name": "Python 3 (ipykernel)",
   "language": "python",
   "name": "python3"
  },
  "language_info": {
   "codemirror_mode": {
    "name": "ipython",
    "version": 3
   },
   "file_extension": ".py",
   "mimetype": "text/x-python",
   "name": "python",
   "nbconvert_exporter": "python",
   "pygments_lexer": "ipython3",
   "version": "3.9.7"
  }
 },
 "nbformat": 4,
 "nbformat_minor": 1
}
